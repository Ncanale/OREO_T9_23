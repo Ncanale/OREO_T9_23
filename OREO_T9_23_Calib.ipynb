{
 "cells": [
  {
   "cell_type": "code",
   "execution_count": 1,
   "metadata": {},
   "outputs": [],
   "source": [
    "%matplotlib widget\n",
    "import numpy as np\n",
    "\n",
    "import matplotlib.pyplot as plt\n",
    "import matplotlib as mpl\n",
    "from matplotlib import ticker, cm\n",
    "from matplotlib.ticker import LogFormatter \n",
    "\n",
    "from scipy.optimize import curve_fit\n",
    "import copy\n",
    "import os\n",
    "import h5py\n",
    "import json\n",
    "\n",
    "import PyPDF2                       # Per unire i PDF alla fine\n",
    "import glob                         # Per manipolazione dei path\n",
    "\n",
    "from collections.abc import Iterable\n"
   ]
  },
  {
   "cell_type": "code",
   "execution_count": 5,
   "metadata": {},
   "outputs": [],
   "source": [
    "#config_file = r\"./config.json\"\n",
    "\n",
    "#with open(config_file, \"r\") as f:\n",
    "#        dizi = json.load(f)\n",
    "#dizi\n",
    "Swan = True"
   ]
  },
  {
   "cell_type": "markdown",
   "metadata": {},
   "source": [
    "DEFS"
   ]
  },
  {
   "cell_type": "code",
   "execution_count": 6,
   "metadata": {},
   "outputs": [],
   "source": [
    "def myGauss(x, a, mu, sigma):\n",
    "    return a * np.exp(- (x-mu)**2 / (2*sigma**2))\n",
    "\n",
    "def myGauss_line(x, a, mu, sigma,m,q):\n",
    "    return a * np.exp(- (x-mu)**2 / (2*sigma**2)) + (m*x + q)\n",
    "\n",
    "# def project_to_z_pos(z1,z2,z4):\n",
    "def projectDistZ(z):\n",
    "    \n",
    "    mx = (x2-x1)/dizi['d_12']\n",
    "    xProj = x1 + mx * z\n",
    "    \n",
    "    my = (y2-y1)/dizi['d_12']\n",
    "    yProj = y1 + my * z\n",
    "    \n",
    "    return (xProj, yProj)\n",
    "\n",
    "\n",
    "def Average(lst):\n",
    "    return sum(lst) / len(lst)"
   ]
  },
  {
   "cell_type": "code",
   "execution_count": 12,
   "metadata": {},
   "outputs": [],
   "source": [
    "def file_corrector(runs):\n",
    "    if Swan:\n",
    "        data_dir = \"/eos/project/i/insulab-como/testBeam/TB_T9_2023_08_OREO/HDF5\"\n",
    "    else:\n",
    "        data_dir = \".\"\n",
    "\n",
    "    pos = []\n",
    "    infos = []\n",
    "    phs = []\n",
    "    tmis = []\n",
    "    evis =[]\n",
    "\n",
    "    if not isinstance(runs, Iterable):\n",
    "        runs = [runs]\n",
    "\n",
    "    for run in runs:\n",
    "        data_path = f'{data_dir}/run{run}.h5'\n",
    "\n",
    "        with h5py.File(data_path, 'r', libver='latest', swmr=True) as hf:\n",
    "            print(hf.keys())\n",
    "            hf[\"xpos\"].shape\n",
    "            keys = list(hf.keys())\n",
    "            #for k in hf.keys():\n",
    "            #    comand = f'{k} = np.array(hf[\"{k}\"])'\n",
    "                # print(comand)\n",
    "            #  exec(comand)\n",
    "            pos.append(np.array(hf['xpos']))\n",
    "            infos.append(np.array(hf['xinfo']))\n",
    "            phs.append(np.array(hf['digiPH']))\n",
    "            tmis.append(np.array(hf['digiTime']))\n",
    "            evis.append(np.array(hf['ievent']))\n",
    "\n",
    "    #print(np.shape(pos))\n",
    "    # print(np.shape(infos))\n",
    "            \n",
    "    xpos = np.concatenate(pos,axis=0)\n",
    "    xinfo = np.concatenate(infos,axis=0)\n",
    "    ph = np.concatenate(phs,axis=0)\n",
    "    tm = np.concatenate(tmis,axis=0)\n",
    "    evi = np.concatenate(evis,axis=0)\n",
    "\n",
    "    #print(np.shape(xpos))\n",
    "    # print(np.shape(xinfo))\n",
    "\n",
    "    ##purge errors\n",
    "    logic = (xpos > -1) & (xpos < 15)\n",
    "    logic2 = logic.all(axis = 1)\n",
    "    xpos = xpos[logic2]   \n",
    "\n",
    "    xinfo = xinfo[logic2]\n",
    "    ph = ph[logic2]\n",
    "    tm = tm[logic2]\n",
    "    evi = evi[logic2]\n",
    "        #NO CORRECTION IN EQUALIZER!\n",
    "    George = (ph[:,2]+ph[:,3])#*dizi['George_correction']\n",
    "    John = (ph[:,4]+ph[:,5])#*dizi['John_correction']\n",
    "    Paul = (ph[:,6]+ph[:,7])#*dizi['Paul_correction']\n",
    "    Beatles = np.array([George,John,Paul]).T\n",
    "\n",
    "    xpos[:,2] -= dizi['offset_x2']\n",
    "    xpos[:,3] -= dizi['offset_y2']\n",
    "\n",
    "    x1 = xpos[:,0]\n",
    "    y1 = xpos[:,1]\n",
    "    x2 = xpos[:,2] \n",
    "    y2 = xpos[:,3] \n",
    "    x_cry, y_cry = projectDistZ(dizi['d_1c'])\n",
    "    return xpos,xinfo,ph,tm,evi,Beatles,x1,y1,x2,y2,x_cry,y_cry "
   ]
  },
  {
   "cell_type": "code",
   "execution_count": 11,
   "metadata": {},
   "outputs": [
    {
     "name": "stdout",
     "output_type": "stream",
     "text": [
      "<KeysViewHDF5 ['digiBase', 'digiPH', 'digiTime', 'ievent', 'info_plus', 'nclu', 'nstrip', 'xinfo', 'xpos']>\n",
      "<KeysViewHDF5 ['digiBase', 'digiPH', 'digiTime', 'ievent', 'info_plus', 'nclu', 'nstrip', 'xinfo', 'xpos']>\n",
      "<KeysViewHDF5 ['digiBase', 'digiPH', 'digiTime', 'ievent', 'info_plus', 'nclu', 'nstrip', 'xinfo', 'xpos']>\n",
      "<KeysViewHDF5 ['digiBase', 'digiPH', 'digiTime', 'ievent', 'info_plus', 'nclu', 'nstrip', 'xinfo', 'xpos']>\n",
      "<KeysViewHDF5 ['digiBase', 'digiPH', 'digiTime', 'ievent', 'info_plus', 'nclu', 'nstrip', 'xinfo', 'xpos']>\n",
      "<KeysViewHDF5 ['digiBase', 'digiPH', 'digiTime', 'ievent', 'info_plus', 'nclu', 'nstrip', 'xinfo', 'xpos']>\n",
      "<KeysViewHDF5 ['digiBase', 'digiPH', 'digiTime', 'ievent', 'info_plus', 'nclu', 'nstrip', 'xinfo', 'xpos']>\n",
      "<KeysViewHDF5 ['digiBase', 'digiPH', 'digiTime', 'ievent', 'info_plus', 'nclu', 'nstrip', 'xinfo', 'xpos']>\n"
     ]
    },
    {
     "ename": "NameError",
     "evalue": "name 'dizi' is not defined",
     "output_type": "error",
     "traceback": [
      "\u001b[0;31m---------------------------------------------------------------------------\u001b[0m",
      "\u001b[0;31mNameError\u001b[0m                                 Traceback (most recent call last)",
      "\u001b[0;32m/tmp/ipykernel_626/3370098566.py\u001b[0m in \u001b[0;36m<module>\u001b[0;34m\u001b[0m\n\u001b[1;32m      1\u001b[0m \u001b[0mn_runs\u001b[0m  \u001b[0;34m=\u001b[0m \u001b[0;34m[\u001b[0m\u001b[0;36m680253\u001b[0m\u001b[0;34m,\u001b[0m\u001b[0;36m680254\u001b[0m\u001b[0;34m,\u001b[0m\u001b[0;36m680258\u001b[0m\u001b[0;34m,\u001b[0m\u001b[0;36m680259\u001b[0m\u001b[0;34m,\u001b[0m\u001b[0;36m680260\u001b[0m\u001b[0;34m,\u001b[0m\u001b[0;36m680261\u001b[0m\u001b[0;34m,\u001b[0m\u001b[0;36m680256\u001b[0m\u001b[0;34m,\u001b[0m\u001b[0;36m680257\u001b[0m\u001b[0;34m]\u001b[0m\u001b[0;34m\u001b[0m\u001b[0;34m\u001b[0m\u001b[0m\n\u001b[1;32m      2\u001b[0m \u001b[0mBeam_en\u001b[0m \u001b[0;34m=\u001b[0m \u001b[0;34m[\u001b[0m\u001b[0;36m1\u001b[0m\u001b[0;34m,\u001b[0m\u001b[0;36m2\u001b[0m\u001b[0;34m,\u001b[0m\u001b[0;36m3\u001b[0m\u001b[0;34m,\u001b[0m\u001b[0;36m4\u001b[0m\u001b[0;34m,\u001b[0m\u001b[0;36m5\u001b[0m\u001b[0;34m,\u001b[0m\u001b[0;36m6\u001b[0m\u001b[0;34m,\u001b[0m\u001b[0;36m12\u001b[0m\u001b[0;34m,\u001b[0m\u001b[0;36m12\u001b[0m\u001b[0;34m]\u001b[0m\u001b[0;34m\u001b[0m\u001b[0;34m\u001b[0m\u001b[0m\n\u001b[0;32m----> 3\u001b[0;31m \u001b[0mxpos\u001b[0m\u001b[0;34m,\u001b[0m\u001b[0mxinfo\u001b[0m\u001b[0;34m,\u001b[0m\u001b[0mph\u001b[0m\u001b[0;34m,\u001b[0m\u001b[0mtm\u001b[0m\u001b[0;34m,\u001b[0m\u001b[0mevi\u001b[0m\u001b[0;34m,\u001b[0m\u001b[0mBeatles\u001b[0m\u001b[0;34m,\u001b[0m\u001b[0mx1\u001b[0m\u001b[0;34m,\u001b[0m\u001b[0my1\u001b[0m\u001b[0;34m,\u001b[0m\u001b[0mx2\u001b[0m\u001b[0;34m,\u001b[0m\u001b[0my2\u001b[0m\u001b[0;34m,\u001b[0m\u001b[0mx_cry\u001b[0m\u001b[0;34m,\u001b[0m\u001b[0my_cry\u001b[0m \u001b[0;34m=\u001b[0m \u001b[0mfile_corrector\u001b[0m\u001b[0;34m(\u001b[0m\u001b[0mn_runs\u001b[0m\u001b[0;34m)\u001b[0m\u001b[0;34m\u001b[0m\u001b[0;34m\u001b[0m\u001b[0m\n\u001b[0m\u001b[1;32m      4\u001b[0m \u001b[0;34m\u001b[0m\u001b[0m\n\u001b[1;32m      5\u001b[0m \u001b[0mprint\u001b[0m\u001b[0;34m(\u001b[0m\u001b[0mxpos\u001b[0m\u001b[0;34m.\u001b[0m\u001b[0mshape\u001b[0m\u001b[0;34m)\u001b[0m\u001b[0;34m\u001b[0m\u001b[0;34m\u001b[0m\u001b[0m\n",
      "\u001b[0;32m/tmp/ipykernel_626/361540171.py\u001b[0m in \u001b[0;36mfile_corrector\u001b[0;34m(runs)\u001b[0m\n\u001b[1;32m     58\u001b[0m     \u001b[0mBeatles\u001b[0m \u001b[0;34m=\u001b[0m \u001b[0mnp\u001b[0m\u001b[0;34m.\u001b[0m\u001b[0marray\u001b[0m\u001b[0;34m(\u001b[0m\u001b[0;34m[\u001b[0m\u001b[0mGeorge\u001b[0m\u001b[0;34m,\u001b[0m\u001b[0mJohn\u001b[0m\u001b[0;34m,\u001b[0m\u001b[0mPaul\u001b[0m\u001b[0;34m]\u001b[0m\u001b[0;34m)\u001b[0m\u001b[0;34m.\u001b[0m\u001b[0mT\u001b[0m\u001b[0;34m\u001b[0m\u001b[0;34m\u001b[0m\u001b[0m\n\u001b[1;32m     59\u001b[0m \u001b[0;34m\u001b[0m\u001b[0m\n\u001b[0;32m---> 60\u001b[0;31m     \u001b[0mxpos\u001b[0m\u001b[0;34m[\u001b[0m\u001b[0;34m:\u001b[0m\u001b[0;34m,\u001b[0m\u001b[0;36m2\u001b[0m\u001b[0;34m]\u001b[0m \u001b[0;34m-=\u001b[0m \u001b[0mdizi\u001b[0m\u001b[0;34m[\u001b[0m\u001b[0;34m'offset_x2'\u001b[0m\u001b[0;34m]\u001b[0m\u001b[0;34m\u001b[0m\u001b[0;34m\u001b[0m\u001b[0m\n\u001b[0m\u001b[1;32m     61\u001b[0m     \u001b[0mxpos\u001b[0m\u001b[0;34m[\u001b[0m\u001b[0;34m:\u001b[0m\u001b[0;34m,\u001b[0m\u001b[0;36m3\u001b[0m\u001b[0;34m]\u001b[0m \u001b[0;34m-=\u001b[0m \u001b[0mdizi\u001b[0m\u001b[0;34m[\u001b[0m\u001b[0;34m'offset_y2'\u001b[0m\u001b[0;34m]\u001b[0m\u001b[0;34m\u001b[0m\u001b[0;34m\u001b[0m\u001b[0m\n\u001b[1;32m     62\u001b[0m \u001b[0;34m\u001b[0m\u001b[0m\n",
      "\u001b[0;31mNameError\u001b[0m: name 'dizi' is not defined"
     ]
    }
   ],
   "source": [
    "n_runs  = [680253,680254,680258,680259,680260,680261,680256,680257]\n",
    "Beam_en = [1,2,3,4,5,6,12,12]\n",
    "xpos,xinfo,ph,tm,evi,Beatles,x1,y1,x2,y2,x_cry,y_cry = file_corrector(n_runs)\n",
    "\n",
    "print(xpos.shape)\n",
    "\n",
    "\n"
   ]
  },
  {
   "cell_type": "code",
   "execution_count": null,
   "metadata": {},
   "outputs": [],
   "source": []
  }
 ],
 "metadata": {
  "@webio": {
   "lastCommId": null,
   "lastKernelId": null
  },
  "kernelspec": {
   "display_name": "Python 3",
   "language": "python",
   "name": "python3"
  },
  "language_info": {
   "codemirror_mode": {
    "name": "ipython",
    "version": 3
   },
   "file_extension": ".py",
   "mimetype": "text/x-python",
   "name": "python",
   "nbconvert_exporter": "python",
   "pygments_lexer": "ipython3",
   "version": "3.9.12"
  }
 },
 "nbformat": 4,
 "nbformat_minor": 2
}
